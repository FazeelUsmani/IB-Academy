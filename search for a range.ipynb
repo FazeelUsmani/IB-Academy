{
 "cells": [
  {
   "cell_type": "code",
   "execution_count": 1,
   "metadata": {},
   "outputs": [],
   "source": [
    "def first(arr, key):\n",
    "    low = 0\n",
    "    high = len(arr) - 1\n",
    "    first = -1\n",
    "    while low <= high:\n",
    "        mid = low + (high - low)//2\n",
    "                \n",
    "        if arr[mid] == key:\n",
    "            first = mid\n",
    "            high = mid - 1\n",
    "        elif arr[mid] < key:\n",
    "            low = mid + 1\n",
    "        else:\n",
    "            high = mid - 1\n",
    "            \n",
    "    return first\n",
    "\n",
    "def last(arr, key):\n",
    "    n = len(arr)\n",
    "    low, high = 0, len(arr)-1\n",
    "    last = n-1\n",
    "    while low<=high:\n",
    "        mid = low + (high-low)//2\n",
    "        if arr[mid] == key:\n",
    "            last = mid\n",
    "            low = mid+1\n",
    "            \n",
    "        elif arr[mid] < key:\n",
    "            low = mid+1\n",
    "        else:\n",
    "            high = mid-1\n",
    "            \n",
    "    return last\n",
    "\n",
    "def search(a,k):\n",
    "    f = first(a,k)\n",
    "    l = last(a,k)\n",
    "    \n",
    "    output = []\n",
    "    output.append(f)\n",
    "    output.append(l)\n",
    "    \n",
    "    return output"
   ]
  },
  {
   "cell_type": "code",
   "execution_count": 3,
   "metadata": {},
   "outputs": [
    {
     "name": "stdout",
     "output_type": "stream",
     "text": [
      "[3, 4]\n"
     ]
    }
   ],
   "source": [
    "print(search([5,7,7,8,8,10],8))"
   ]
  }
 ],
 "metadata": {
  "kernelspec": {
   "display_name": "Python 3",
   "language": "python",
   "name": "python3"
  },
  "language_info": {
   "codemirror_mode": {
    "name": "ipython",
    "version": 3
   },
   "file_extension": ".py",
   "mimetype": "text/x-python",
   "name": "python",
   "nbconvert_exporter": "python",
   "pygments_lexer": "ipython3",
   "version": "3.7.3"
  }
 },
 "nbformat": 4,
 "nbformat_minor": 2
}
