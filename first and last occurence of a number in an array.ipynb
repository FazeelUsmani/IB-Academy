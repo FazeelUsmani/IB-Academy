{
 "cells": [
  {
   "cell_type": "markdown",
   "metadata": {},
   "source": [
    "### Given a sorted array containing duplicates, return first occurence of target\n",
    "\n",
    "Input: [1,2,3,4,4,5,5,6,7,9,9,9]\n",
    "\n",
    "key = 4\n",
    "\n",
    "Output: 3 (as indices start with 0) "
   ]
  },
  {
   "cell_type": "code",
   "execution_count": 12,
   "metadata": {},
   "outputs": [
    {
     "name": "stdout",
     "output_type": "stream",
     "text": [
      "3\n"
     ]
    }
   ],
   "source": [
    "def first(arr, key):\n",
    "    low = 0\n",
    "    high = len(arr) - 1\n",
    "    first = -1\n",
    "    while low <= high:\n",
    "        mid = low + (high - low)//2\n",
    "                \n",
    "        if arr[mid] == key:\n",
    "            first = mid\n",
    "            high = mid - 1\n",
    "        elif arr[mid] < key:\n",
    "            low = mid + 1\n",
    "        else:\n",
    "            high = mid - 1\n",
    "            \n",
    "    return first\n",
    "    \n",
    "    \n",
    "print(first([1,2,3,4,4,5,5,6,7,9,9,9], 4))"
   ]
  },
  {
   "cell_type": "code",
   "execution_count": 19,
   "metadata": {},
   "outputs": [
    {
     "name": "stdout",
     "output_type": "stream",
     "text": [
      "11\n"
     ]
    }
   ],
   "source": [
    "def last(arr, key):\n",
    "    n = len(arr)\n",
    "    low, high = 0, len(arr)-1\n",
    "    last = n-1\n",
    "    while low<=high:\n",
    "        mid = low + (high-low)//2\n",
    "        if arr[mid] == key:\n",
    "            last = mid\n",
    "            low = mid+1\n",
    "            \n",
    "        elif arr[mid] < key:\n",
    "            low = mid+1\n",
    "        else:\n",
    "            high = mid-1\n",
    "            \n",
    "    return last\n",
    "                \n",
    "print(last([1,2,3,4,4,5,5,6,7,9,9,9], 9))"
   ]
  }
 ],
 "metadata": {
  "kernelspec": {
   "display_name": "Python 3",
   "language": "python",
   "name": "python3"
  },
  "language_info": {
   "codemirror_mode": {
    "name": "ipython",
    "version": 3
   },
   "file_extension": ".py",
   "mimetype": "text/x-python",
   "name": "python",
   "nbconvert_exporter": "python",
   "pygments_lexer": "ipython3",
   "version": "3.7.3"
  }
 },
 "nbformat": 4,
 "nbformat_minor": 2
}
