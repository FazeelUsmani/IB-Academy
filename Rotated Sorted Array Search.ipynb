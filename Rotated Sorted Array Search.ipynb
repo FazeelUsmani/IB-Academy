{
 "cells": [
  {
   "cell_type": "markdown",
   "metadata": {},
   "source": [
    "### Rotated Sorted Array Search:\n",
    "\n",
    "Suppose a sorted array is rotated at some pivot unknown to you beforehand. (i.e., 0 1 2 4 5 6 7 might become 4 5 6 7 0 1 2 ). You are given a target value to search. If found in the array, return its index, otherwise return -1. You may assume no duplicate exists in the array.\n",
    "\n",
    "Input :\n",
    "[4 5 6 7 0 1 2]\n",
    "\n",
    "and target = 4\n",
    "\n",
    "Output = 0"
   ]
  },
  {
   "cell_type": "code",
   "execution_count": 12,
   "metadata": {},
   "outputs": [
    {
     "name": "stdout",
     "output_type": "stream",
     "text": [
      "2\n"
     ]
    }
   ],
   "source": [
    "class Solution:\n",
    "    \n",
    "    def search(self, arr, k):\n",
    "        n = len(arr)\n",
    "        pi = self.pivot(arr)\n",
    "        \n",
    "        if pi == -1:\n",
    "            return self.bs(arr, 0, n-1, k)\n",
    "        \n",
    "        if arr[pi] == k:\n",
    "            return pi\n",
    "        \n",
    "        elif arr[0] <= k:\n",
    "            return self.bs(arr, 0, pi-1, k)\n",
    "        \n",
    "        else:\n",
    "            return self.bs(arr, pi+1, n-1, k)\n",
    "        \n",
    "        \n",
    "    def pivot(self,arr):\n",
    "        \n",
    "        lo = 0\n",
    "        hi = len(arr) - 1\n",
    "        \n",
    "        if arr[lo] <= arr[hi]:\n",
    "            return -1\n",
    "        while lo <= hi:\n",
    "            mid = lo + (hi-lo)//2\n",
    "            if mid > 0 and arr[mid] < arr[mid-1]:\n",
    "                return mid\n",
    "            elif arr[mid] >= arr[0]:\n",
    "                lo = mid + 1\n",
    "            else:\n",
    "                hi = mid - 1\n",
    "                \n",
    "        return -1\n",
    "    \n",
    "    \n",
    "        \n",
    "    def bs(self, arr, lo, hi, k):\n",
    "    \n",
    "        while lo <= hi:\n",
    "            mid = lo + (hi-lo)//2\n",
    "            \n",
    "            if arr[mid] == k:\n",
    "                return mid\n",
    "            elif arr[mid] < k:\n",
    "                lo = mid + 1\n",
    "            else:\n",
    "                hi = mid - 1\n",
    "                \n",
    "        return -1\n",
    "                \n",
    "        \n",
    "r = Solution()\n",
    "print(r.search([4,5,6,7,0,1,2],6))"
   ]
  }
 ],
 "metadata": {
  "kernelspec": {
   "display_name": "Python 3",
   "language": "python",
   "name": "python3"
  },
  "language_info": {
   "codemirror_mode": {
    "name": "ipython",
    "version": 3
   },
   "file_extension": ".py",
   "mimetype": "text/x-python",
   "name": "python",
   "nbconvert_exporter": "python",
   "pygments_lexer": "ipython3",
   "version": "3.7.3"
  }
 },
 "nbformat": 4,
 "nbformat_minor": 2
}
