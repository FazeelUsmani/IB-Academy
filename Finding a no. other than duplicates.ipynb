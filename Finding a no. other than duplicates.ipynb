{
 "cells": [
  {
   "cell_type": "markdown",
   "metadata": {},
   "source": [
    "### Finding a number other than duplicate:\n",
    "\n",
    "In a sorted array, all the elements are duplicate except one. Find that one in logN time?\n",
    "\n",
    "Input: [2,2,5,5,7,7,8,9,9]\n",
    "\n",
    "Output: [8]"
   ]
  },
  {
   "cell_type": "code",
   "execution_count": null,
   "metadata": {},
   "outputs": [],
   "source": [
    "def first(arr, k):\n",
    "    lo = 0\n",
    "    hi = len(arr)-1\n",
    "    first = -1\n",
    "    while lo<=hi:\n",
    "        mid = lo + (hi-lo)//2\n",
    "        if arr[mid] == k:\n",
    "            first = mid\n",
    "            hi = mid-1\n",
    "        elif arr[mid] > k:\n",
    "            hi = mid-1\n",
    "        else:\n",
    "            lo = mid+1\n",
    "                                \n",
    "    return first\n",
    "            \n",
    "def single(arr):\n",
    "    lo = 0\n",
    "    hi = len(arr)-1\n",
    "    \n",
    "    while lo<=hi:\n",
    "        mid = lo+(hi-lo)//2\n",
    "        if arr[mid] != arr[mid-1] and arr[mid] != arr[mid+1]:\n",
    "            return arr[mid]\n",
    "\n",
    "        midOccurence = first(arr, arr[mid])   \n",
    "        \n",
    "        if midOccurence&1:\n",
    "            hi = mid-1\n",
    "        else:\n",
    "            lo = mid+1\n",
    "\n",
    "    return -1\n",
    "                \n",
    "print(single([11,11,22,22,33,33,44,55,55]))       "
   ]
  }
 ],
 "metadata": {
  "kernelspec": {
   "display_name": "Python 3",
   "language": "python",
   "name": "python3"
  },
  "language_info": {
   "codemirror_mode": {
    "name": "ipython",
    "version": 3
   },
   "file_extension": ".py",
   "mimetype": "text/x-python",
   "name": "python",
   "nbconvert_exporter": "python",
   "pygments_lexer": "ipython3",
   "version": "3.7.3"
  }
 },
 "nbformat": 4,
 "nbformat_minor": 2
}
