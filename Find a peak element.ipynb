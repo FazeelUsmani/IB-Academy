{
 "cells": [
  {
   "cell_type": "code",
   "execution_count": 14,
   "metadata": {},
   "outputs": [
    {
     "name": "stdout",
     "output_type": "stream",
     "text": [
      "4\n"
     ]
    }
   ],
   "source": [
    "def peak(arr):\n",
    "    n = len(arr)\n",
    "    lo = 0\n",
    "    hi = n-1\n",
    "    while lo<=hi:\n",
    "        mid = lo + (hi-lo)//2\n",
    "        if (mid == 0 or arr[mid]>=arr[mid-1]) and (mid==n-1 or arr[mid]>=arr[mid+1]):\n",
    "            \n",
    "            return arr[mid]\n",
    "        \n",
    "        elif arr[mid] < arr[mid-1]:\n",
    "            hi = mid-1\n",
    "            \n",
    "        else:\n",
    "            lo = mid+1\n",
    "            \n",
    "    return -1        \n",
    "    \n",
    "    \n",
    "print(peak([1,4,4]))"
   ]
  }
 ],
 "metadata": {
  "kernelspec": {
   "display_name": "Python 3",
   "language": "python",
   "name": "python3"
  },
  "language_info": {
   "codemirror_mode": {
    "name": "ipython",
    "version": 3
   },
   "file_extension": ".py",
   "mimetype": "text/x-python",
   "name": "python",
   "nbconvert_exporter": "python",
   "pygments_lexer": "ipython3",
   "version": "3.7.3"
  }
 },
 "nbformat": 4,
 "nbformat_minor": 2
}
